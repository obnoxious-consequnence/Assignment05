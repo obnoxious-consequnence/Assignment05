{
 "cells": [
  {
   "cell_type": "markdown",
   "metadata": {},
   "source": [
    "# Assignment 5 - Request\n",
    "This assignment trains you in\n",
    "\n",
    "1. installing and using a new Python framework\n",
    "2. running Python code from the terminal\n",
    "3. scrape web requests\n",
    "\n",
    "The code in this assignment is based on the requests module and the [flask](https://anaconda.org/anaconda/flask) framework (see links). Don't forget to use Python 3 for the assignment. Scary things might happen if you don't\n",
    "\n",
    "## Obnoxious Consequence\n",
    "- Martin Snedvig Rasmussen\n",
    "- Michael Ejdal Lundsgaard\n",
    "- Morten Bokkenheuser-Bæhr\n",
    "- Simon Kepp Stennicke\n"
   ]
  },
  {
   "cell_type": "markdown",
   "metadata": {},
   "source": [
    "## Part 1: Writing a server\n",
    "The first part of the assignment is to write a very simple server. It needs to do three things:\n",
    "1. Expose an HTTP POST method at /, that accepts and decodes a JSON data body. That is the only method you have to expose.\n",
    "2. Get the request JSON data (using request.get_json()) and assume it's a dictionary. Now extract the value inside the dictionary under the key password. We will call this password for client_password.\n",
    "3. Choose a two-letter password (in ASCII) that is fixed for the server. Just choose two random letters/numbers. We will call this password SERVER_PASSWORD. If the decoded value for the password field is the same as your chosen password (client_password == SERVER_PASSWORD), return an HTTP code 200 OK. Otherwise return the HTTP code 403 Forbidden status code. You don't have to return a body.\n",
    "\n",
    "Hand in:\n",
    "\n",
    "- The code for your server copied into a Jupyter Notebook\n",
    "    - This should not be much more than 20 lines of code\n",
    "    \n",
    "## Part 2: Hack the server!\n",
    "Now we want to hack the server. But not just hack it once. We want to automate hacking the server! Before you start on this part, make sure your server from part 1 is running.\n",
    "\n",
    "1. Find a list of all the possible ASCII characters in Python (hint: look in the string module)\n",
    "2. Generate all possible combinations of two ASCII characters and save them into the variable\n",
    "\n",
    "    - This will be 52 * 52 = 2704 elements. If you're smart you can create this as a generator\n",
    "\n",
    "3. Write a method that takes a string password as its input, calls your server from part 1 (running on localhost), and return the status code of the request. Make sure that you:\n",
    "\n",
    "    - Call the website at the correct port and URL with the correct HTTP verb\n",
    "    - Inject data correctly. Remember that the body should be a str containing a JSON dictionary\n",
    "    \n",
    "4. Use your list of combinations from step 2 to call the sever 2704 times and find out when the status code it 200. When that happened you cracked the code!\n",
    "\n",
    "Hand in:\n",
    "\n",
    "- The code for your hack in your Jupyter Notebook\n",
    "- The password you found\n",
    "\n",
    "## Part 3: Make it go fast!\n",
    "This was probably pretty slow, because we made ~2704 sequential requests. Now implement this asynchronously by using a pool like this:\n",
    "\n",
    "```python\n",
    "from multiprocessing import Pool\n",
    "pool = Pool(processes=12)\n",
    "```\n",
    "\n",
    "Hand in:\n",
    "\n",
    "- The code for parallelising your server hacking\n",
    "- The runtimes of the sequential and parallel version using %%timeit"
   ]
  },
  {
   "cell_type": "markdown",
   "metadata": {},
   "source": [
    "# Solutions\n"
   ]
  },
  {
   "cell_type": "markdown",
   "metadata": {},
   "source": [
    "## Part 01 - Make the server"
   ]
  },
  {
   "cell_type": "markdown",
   "metadata": {},
   "source": [
    "Below is our module that creates our server\n",
    "\n",
    "```python\n",
    "from flask import Flask, request\n",
    "\n",
    "app = Flask(__name__)\n",
    "    \n",
    "@app.route('/', methods = ['POST'])\n",
    "def api_message():\n",
    "    SERVER_PASSWORD = \"bb\"\n",
    "    if request.headers['Content-Type'] == 'application/json':\n",
    "        for k, v in request.get_json().items():\n",
    "            client_password = v\n",
    "        if client_password == SERVER_PASSWORD:\n",
    "            return \"Access Granted\", 200\n",
    "        else:\n",
    "            return \"Access Denied\", 403\n",
    "    else:\n",
    "        return \"415 Unsupported Media Type\"\n",
    "```"
   ]
  },
  {
   "cell_type": "markdown",
   "metadata": {},
   "source": [
    "**Note**: We tried to make a cell from where you could launch the server, however it didn't work - So instead just take the following `export FLASK_APP=part01.py` `flask run` and run it in your terminal\n"
   ]
  },
  {
   "cell_type": "markdown",
   "metadata": {},
   "source": [
    "## Part 02 - Hack the server!"
   ]
  },
  {
   "cell_type": "code",
   "execution_count": 1,
   "metadata": {},
   "outputs": [],
   "source": [
    "import requests\n",
    "import json\n",
    "\n",
    "url = 'http://127.0.0.1:5000/'\n",
    "\n",
    "def init_hack(body):\n",
    "    count = 0        \n",
    "    for i in range(len(body)):\n",
    "        count+=1\n",
    "        r = requests.post(url, json={\"password\": body[i]})\n",
    "        if r.status_code == 200:\n",
    "            return (r.status_code, r.text, \"tries: \", count, \"password: \", body[i])"
   ]
  },
  {
   "cell_type": "code",
   "execution_count": 4,
   "metadata": {},
   "outputs": [
    {
     "data": {
      "text/plain": [
       "(200, 'Access Granted', 'tries: ', 54, 'password: ', 'bb')"
      ]
     },
     "execution_count": 4,
     "metadata": {},
     "output_type": "execute_result"
    }
   ],
   "source": [
    "import string\n",
    "import requests\n",
    "\n",
    "letters = list(string.ascii_letters)\n",
    "passwords = []\n",
    "for i in letters:\n",
    "    for j in letters:\n",
    "        passwords.append(i+j)\n",
    "        \n",
    "init_hack(passwords)"
   ]
  },
  {
   "cell_type": "markdown",
   "metadata": {},
   "source": [
    "## Part 03 - Make it go fast!"
   ]
  },
  {
   "cell_type": "code",
   "execution_count": null,
   "metadata": {},
   "outputs": [],
   "source": [
    "from multiprocessing import Pool\n",
    "p = Pool(processes=4)\n",
    "p.map(init_hack, passwords)"
   ]
  }
 ],
 "metadata": {
  "kernelspec": {
   "display_name": "Python 3",
   "language": "python",
   "name": "python3"
  },
  "language_info": {
   "codemirror_mode": {
    "name": "ipython",
    "version": 3
   },
   "file_extension": ".py",
   "mimetype": "text/x-python",
   "name": "python",
   "nbconvert_exporter": "python",
   "pygments_lexer": "ipython3",
   "version": "3.7.1"
  }
 },
 "nbformat": 4,
 "nbformat_minor": 2
}
